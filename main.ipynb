{
 "cells": [
  {
   "cell_type": "markdown",
   "metadata": {
    "collapsed": true,
    "pycharm": {
     "name": "#%% md\n"
    }
   },
   "source": [
    "# COVisualize-19\n",
    "\n",
    "## COMS 4771 Final Project\n",
    "\n",
    "Classifying COVID-19 patients from lung scans.\n",
    "\n",
    "Anthony Krivonos"
   ]
  },
  {
   "cell_type": "markdown",
   "source": [
    "### Library Imports"
   ],
   "metadata": {
    "collapsed": false,
    "pycharm": {
     "name": "#%% md\n"
    }
   }
  },
  {
   "cell_type": "code",
   "execution_count": 9,
   "outputs": [],
   "source": [
    "import os, sys\n",
    "\n",
    "from os import mkdir, chdir\n",
    "from os.path import realpath, join, dirname, exists\n",
    "\n",
    "import cv2\n",
    "import numpy as np\n",
    "import pandas as pd"
   ],
   "metadata": {
    "collapsed": false,
    "pycharm": {
     "name": "#%%\n",
     "is_executing": false
    }
   }
  },
  {
   "cell_type": "markdown",
   "source": [
    "### Import Data"
   ],
   "metadata": {
    "collapsed": false,
    "pycharm": {
     "name": "#%% md\n"
    }
   }
  },
  {
   "cell_type": "code",
   "execution_count": 10,
   "outputs": [
    {
     "data": {
      "text/plain": "      id           filename\n0      0    test/img-0.jpeg\n1      1    test/img-1.jpeg\n2      2    test/img-2.jpeg\n3      3    test/img-3.jpeg\n4      4    test/img-4.jpeg\n..   ...                ...\n479  479  test/img-479.jpeg\n480  480  test/img-480.jpeg\n481  481  test/img-481.jpeg\n482  482  test/img-482.jpeg\n483  483  test/img-483.jpeg\n\n[484 rows x 2 columns]",
      "text/html": "<div>\n<style scoped>\n    .dataframe tbody tr th:only-of-type {\n        vertical-align: middle;\n    }\n\n    .dataframe tbody tr th {\n        vertical-align: top;\n    }\n\n    .dataframe thead th {\n        text-align: right;\n    }\n</style>\n<table border=\"1\" class=\"dataframe\">\n  <thead>\n    <tr style=\"text-align: right;\">\n      <th></th>\n      <th>id</th>\n      <th>filename</th>\n    </tr>\n  </thead>\n  <tbody>\n    <tr>\n      <th>0</th>\n      <td>0</td>\n      <td>test/img-0.jpeg</td>\n    </tr>\n    <tr>\n      <th>1</th>\n      <td>1</td>\n      <td>test/img-1.jpeg</td>\n    </tr>\n    <tr>\n      <th>2</th>\n      <td>2</td>\n      <td>test/img-2.jpeg</td>\n    </tr>\n    <tr>\n      <th>3</th>\n      <td>3</td>\n      <td>test/img-3.jpeg</td>\n    </tr>\n    <tr>\n      <th>4</th>\n      <td>4</td>\n      <td>test/img-4.jpeg</td>\n    </tr>\n    <tr>\n      <th>...</th>\n      <td>...</td>\n      <td>...</td>\n    </tr>\n    <tr>\n      <th>479</th>\n      <td>479</td>\n      <td>test/img-479.jpeg</td>\n    </tr>\n    <tr>\n      <th>480</th>\n      <td>480</td>\n      <td>test/img-480.jpeg</td>\n    </tr>\n    <tr>\n      <th>481</th>\n      <td>481</td>\n      <td>test/img-481.jpeg</td>\n    </tr>\n    <tr>\n      <th>482</th>\n      <td>482</td>\n      <td>test/img-482.jpeg</td>\n    </tr>\n    <tr>\n      <th>483</th>\n      <td>483</td>\n      <td>test/img-483.jpeg</td>\n    </tr>\n  </tbody>\n</table>\n<p>484 rows × 2 columns</p>\n</div>"
     },
     "metadata": {},
     "output_type": "execute_result",
     "execution_count": 10
    }
   ],
   "source": [
    "\"\"\"\n",
    "    Read CSVs into DataFrames.\n",
    "\"\"\"\n",
    "\n",
    "train_data = pd.read_csv('./train.csv')\n",
    "test_data = pd.read_csv('./test.csv')\n",
    "\n",
    "test_data"
   ],
   "metadata": {
    "collapsed": false,
    "pycharm": {
     "name": "#%%\n",
     "is_executing": false
    }
   }
  },
  {
   "cell_type": "markdown",
   "source": [
    "### Quick Settings\n",
    "\n",
    "Keep these updated, so we only have to do certain tasks (like preprocessing) once."
   ],
   "metadata": {
    "collapsed": false,
    "pycharm": {
     "name": "#%% md\n"
    }
   }
  },
  {
   "cell_type": "code",
   "execution_count": 11,
   "outputs": [],
   "source": [
    "SETTINGS = {\n",
    "\n",
    "    # Preprocess the images at all?\n",
    "    \"PREPROCESS\": True,\n",
    "    \n",
    "    # Preprocess the images using specific methods\n",
    "    \"PREPROCESS_METHOD_A\": False,\n",
    "    \"PREPROCESS_METHOD_B\": False,\n",
    "    \"PREPROCESS_METHOD_C\": False,\n",
    "    \"PREPROCESS_METHOD_D\": False,\n",
    "    \n",
    "    \n",
    "    \n",
    "}"
   ],
   "metadata": {
    "collapsed": false,
    "pycharm": {
     "name": "#%%\n",
     "is_executing": false
    }
   }
  },
  {
   "cell_type": "markdown",
   "source": [
    "### Image Preprocessing"
   ],
   "metadata": {
    "collapsed": false,
    "pycharm": {
     "name": "#%% md\n"
    }
   }
  },
  {
   "cell_type": "markdown",
   "source": [
    "#### Method A – Square images w/ padding\n",
    "\n",
    "1. Find smallest-dimension training image dimension. This will be the standard image size for both training and testing.\n",
    "2. Take this image's larger dimension and resize all images into squares with that side length. While doing this, center the images and pad the left and right sides.\n",
    "\n",
    "#### Method B – Crop images, ignoring aspect ratio\n",
    "\n",
    "1. Find smallest-dimension training image dimensions. This will be the standard image size for both training and testing.\n",
    "2. Resizeevery image to this height and width, ignoring the aspect ratio of each image.\n",
    "\n",
    "#### Method C – Crop images to smallest size, maintaining aspect ratio\n",
    "\n",
    "1. Find smallest-dimension training image dimensions. This will be the standard image size for both training and testing.\n",
    "2. Resize and crop every image to this height and width, maintaining the aspect ratio of each image and centering its source.\n",
    "\n",
    "#### Method D – Crop images to square, maintaining aspect ratio\n",
    "\n",
    "1. Find smallest-dimension training image dimension. This will be the standard image size for both training and testing.\n",
    "2. Resize and crop every image to this size, maintaining the aspect ratio of each image and centering its source.\n",
    "\n",
    "##### Tools\n",
    "- Uses OpenCV (`CV2`)"
   ],
   "metadata": {
    "collapsed": false,
    "pycharm": {
     "name": "#%% md\n"
    }
   }
  },
  {
   "cell_type": "code",
   "execution_count": 12,
   "outputs": [],
   "source": [
    "##\n",
    "#   Directory Names\n",
    "##\n",
    "\n",
    "# Name of the directory to put the processed images in\n",
    "PROCESSED_DIRECTORY = 'processed'\n",
    "\n",
    "# Different process method directories\n",
    "METHOD_A_DIRECTORY = 'method_a'\n",
    "METHOD_B_DIRECTORY = 'method_b'\n",
    "METHOD_C_DIRECTORY = 'method_c'\n",
    "METHOD_D_DIRECTORY = 'method_d'\n",
    "\n",
    "\n",
    "##\n",
    "#   Image Writing Helper Function\n",
    "##\n",
    "def relative_imwrite(relative_filepath, img):\n",
    "    \"\"\"\n",
    "    Call cv2.imwrite(..., img) on a relative file path.\n",
    "    :param relative_filepath: The path (i.e. 'processed/train/img-2.jpeg').\n",
    "    :param img: The cv2 image.\n",
    "    \"\"\"\n",
    "    \n",
    "    # Store current working directory so we can navigate back\n",
    "    cwd = os.getcwd()\n",
    "    \n",
    "    # Get index of last slash to use it as a splitting point\n",
    "    split_idx = relative_filepath.rindex(\"/\")\n",
    "    \n",
    "    # Create a relative path and filename from this\n",
    "    relative_path = relative_filepath[:split_idx]\n",
    "    file_name = relative_filepath[(split_idx + 1):]\n",
    "    \n",
    "    # Extract the directory names\n",
    "    directory_names = relative_path.split(\"/\")\n",
    "    top_directory_name = cwd\n",
    "    \n",
    "    # Create the directory if it doesn't exist and then move to it\n",
    "    # Repeat this for every subdirectory\n",
    "    for dir_name in directory_names:\n",
    "        top_directory_name = join(top_directory_name, dir_name)\n",
    "        if not exists(top_directory_name):\n",
    "            mkdir(dir_name)\n",
    "        chdir(dir_name)\n",
    "\n",
    "    # Save the file at the given path\n",
    "    file_path = \"./\" + file_name\n",
    "    cv2.imwrite(file_path, img)\n",
    "    chdir(cwd)\n",
    "\n",
    "\n",
    "if SETTINGS[\"PREPROCESS\"]:\n",
    "\n",
    "    # Maps of file names to CV2 images\n",
    "    train_images = {}\n",
    "    test_images = {}\n",
    "    \n",
    "    min_train_image_width = sys.maxsize\n",
    "    min_train_image_height = sys.maxsize\n",
    "    \n",
    "    ##\n",
    "    #   Traverse train images and record smallest dimension\n",
    "    ##\n",
    "    \n",
    "    # Find the smallest training image, storing the images as they're traversed\n",
    "    for _, row in train_data.iterrows():\n",
    "        \n",
    "        # Read image\n",
    "        id, filename = row['id'], row['filename']\n",
    "        image = cv2.imread(row['filename'])\n",
    "        train_images[id] = image\n",
    "        \n",
    "        # Record minimum height and width\n",
    "        height, width, _ = image.shape\n",
    "        min_train_image_width = min(min_train_image_width, width)\n",
    "        min_train_image_height = min(min_train_image_height, height)\n",
    "    \n",
    "    # Instantiate the smallest size of the two dimensions in another variable\n",
    "    min_train_image_size = min(min_train_image_width, min_train_image_height)\n",
    "    \n",
    "    ##\n",
    "    #   Traverse test images only\n",
    "    ##\n",
    "    \n",
    "    for _, row in test_data.iterrows():\n",
    "        \n",
    "        # Read image\n",
    "        id, filename = row['id'], row['filename']\n",
    "        image = cv2.imread(row['filename'])\n",
    "        test_images[id] = image"
   ],
   "metadata": {
    "collapsed": false,
    "pycharm": {
     "name": "#%%\n",
     "is_executing": false
    }
   }
  },
  {
   "cell_type": "code",
   "execution_count": 13,
   "outputs": [],
   "source": [
    "    \n",
    "##\n",
    "#   Method A\n",
    "##\n",
    "\n",
    "def resize_and_pad(cv2_img, to_size, padding_color=0):\n",
    "    \"\"\"\n",
    "    Resize the given CV2 image to a square with the given size length, and then pad it with the given color.\n",
    "    Adapted from https://stackoverflow.com/questions/44720580/resize-image-canvas-to-maintain-square-aspect-ratio-in-python-opencv.\n",
    "    :param cv2_img: The CV2 image obtained via cv2.imread(...).\n",
    "    :param to_size: The desired size int.\n",
    "    :param padding_color: A color int, list, tuple, or ndarray.\n",
    "    :return: The padded image.\n",
    "    \"\"\"\n",
    "    \n",
    "    # Create height and width variables for better naming\n",
    "    to_height = to_width = to_size\n",
    "\n",
    "    # Get actual image dimensions\n",
    "    height, width = cv2_img.shape[:2]\n",
    "    aspect_ratio = width / height\n",
    "\n",
    "    # Interpolate differently based on the image's relative size\n",
    "    if height > to_height or width > to_width:\n",
    "        # Shrink image via inter area as its too large\n",
    "        interp = cv2.INTER_AREA\n",
    "    else:\n",
    "        # Stretch image via inter cubic as its too small\n",
    "        interp = cv2.INTER_CUBIC\n",
    "\n",
    "    is_image_horizontal = aspect_ratio > 1\n",
    "    is_image_vertical = aspect_ratio < 1\n",
    "    \n",
    "    # Height and width we're resizing the image to\n",
    "    new_height, new_width = to_height, to_width\n",
    "    \n",
    "    # Padding around the new image's inner edges\n",
    "    pad_left, pad_right, pad_top, pad_bot = 0, 0, 0, 0\n",
    "\n",
    "    if is_image_horizontal:\n",
    "        # Image is horizontal, so requires vertical padding\n",
    "        new_height = np.round(new_width / aspect_ratio).astype(int)\n",
    "        pad_vert = (to_height - new_height) / 2\n",
    "        pad_top, pad_bot = np.floor(pad_vert).astype(int), np.ceil(pad_vert).astype(int)\n",
    "\n",
    "    elif is_image_vertical:\n",
    "        # Image is vertical, so required horizontal padding\n",
    "        new_width = np.round(new_height * aspect_ratio).astype(int)\n",
    "        pad_horiz = (to_width - new_width) / 2\n",
    "        pad_left, pad_right = np.floor(pad_horiz).astype(int), np.ceil(pad_horiz).astype(int)\n",
    "\n",
    "    # If only one color is provided and the image is RGB, then set the padding color to an array of length 3\n",
    "    if len(cv2_img.shape) is 3 and not isinstance(padding_color, (list, tuple, np.ndarray)):\n",
    "        padding_color = [padding_color] * 3\n",
    "\n",
    "    # Resize the image to the newly calculated dimensions and interpolation strategy\n",
    "    new_img = cv2.resize(cv2_img, (new_width, new_height), interpolation=interp)\n",
    "    \n",
    "    # Add the calculated borders around the image\n",
    "    new_img = cv2.copyMakeBorder(new_img, pad_top, pad_bot, pad_left, pad_right, borderType=cv2.BORDER_CONSTANT, value=padding_color)\n",
    "\n",
    "    return new_img\n",
    "\n",
    "if SETTINGS[\"PREPROCESS\"] and SETTINGS[\"PREPROCESS_METHOD_A\"]:\n",
    "\n",
    "    # Add a black border around the resized images\n",
    "    COLOR = 0\n",
    "    \n",
    "    ##\n",
    "    #   Resize Training Data\n",
    "    ##\n",
    "    \n",
    "    # Resize and write training images\n",
    "    for id in train_images.keys():\n",
    "        train_image = train_images[id]\n",
    "        resized_train_image = resize_and_pad(train_image, min_train_image_size, COLOR)\n",
    "        image_dir = PROCESSED_DIRECTORY + \"/\" + METHOD_A_DIRECTORY + \"/train/img-\" + str(id) + \".jpeg\"\n",
    "        relative_imwrite(image_dir, resized_train_image)\n",
    "    \n",
    "    ##\n",
    "    #   Resize Test Data\n",
    "    ##\n",
    "    \n",
    "    # Resize and write testing images\n",
    "    for id in test_images.keys():\n",
    "        test_image = test_images[id]\n",
    "        resized_test_image = resize_and_pad(test_image, min_train_image_size, COLOR)\n",
    "        image_dir = PROCESSED_DIRECTORY + \"/\" + METHOD_A_DIRECTORY + \"/test/img-\" + str(id) + \".jpeg\"\n",
    "        relative_imwrite(image_dir, resized_test_image)"
   ],
   "metadata": {
    "collapsed": false,
    "pycharm": {
     "name": "#%%\n",
     "is_executing": false
    }
   }
  },
  {
   "cell_type": "code",
   "execution_count": 14,
   "outputs": [],
   "source": [
    "    \n",
    "##\n",
    "#   Method B\n",
    "##\n",
    "\n",
    "def resize_ignoring_aspect_ratio(cv2_img, to_width, to_height):\n",
    "    \"\"\"\n",
    "    Resizes the image to the given size, ignoring aspect ratio.\n",
    "    :param cv2_img: The image to resize.\n",
    "    :param to_width: The desired width.\n",
    "    :param to_height: The desired height.\n",
    "    :return: A new, resized cv2 image.\n",
    "    \"\"\"\n",
    "    return cv2.resize(cv2_img, (to_width, to_height), interpolation = cv2.INTER_AREA)\n",
    "\n",
    "if SETTINGS[\"PREPROCESS\"] and SETTINGS[\"PREPROCESS_METHOD_B\"]:\n",
    "    \n",
    "    ##\n",
    "    #   Resize Training Data\n",
    "    ##\n",
    "    \n",
    "    # Resize and write training images\n",
    "    for id in train_images.keys():\n",
    "        train_image = train_images[id]\n",
    "        resized_train_image = resize_ignoring_aspect_ratio(train_image, min_train_image_width, min_train_image_height)\n",
    "        image_dir = PROCESSED_DIRECTORY + \"/\" + METHOD_B_DIRECTORY + \"/train/img-\" + str(id) + \".jpeg\"\n",
    "        relative_imwrite(image_dir, resized_train_image)\n",
    "    \n",
    "    ##\n",
    "    #   Resize Test Data\n",
    "    ##\n",
    "    \n",
    "    # Resize and write testing images\n",
    "    for id in test_images.keys():\n",
    "        test_image = test_images[id]\n",
    "        resized_test_image = resize_ignoring_aspect_ratio(test_image, min_train_image_width, min_train_image_height)\n",
    "        image_dir = PROCESSED_DIRECTORY + \"/\" + METHOD_B_DIRECTORY + \"/test/img-\" + str(id) + \".jpeg\"\n",
    "        relative_imwrite(image_dir, resized_test_image)\n",
    "        "
   ],
   "metadata": {
    "collapsed": false,
    "pycharm": {
     "name": "#%%\n",
     "is_executing": false
    }
   }
  },
  {
   "cell_type": "code",
   "execution_count": 15,
   "outputs": [],
   "source": [
    "    \n",
    "##\n",
    "#   Method C\n",
    "##\n",
    "\n",
    "def resize_maintaining_aspect_ratio(cv2_img, to_width, to_height):\n",
    "    \"\"\"\n",
    "    Crop the given cv2 image to the desired width and height, maintaining the image's original aspect ratio.\n",
    "    :param cv2_img: The image to crop.\n",
    "    :param to_width: The desired width.\n",
    "    :param to_height: The desired height.\n",
    "    :return: The new resized and cropped image.\n",
    "    \"\"\"\n",
    "    \n",
    "    # Create height and width variables for better naming\n",
    "    height, width = cv2_img.shape[:2]\n",
    "    aspect_ratio = width / height\n",
    "    \n",
    "    # Resizing\n",
    "    max_side = max(to_height, to_width)\n",
    "    if height < width:\n",
    "        new_height = max_side\n",
    "        new_width = int(aspect_ratio * new_height)\n",
    "    else:\n",
    "        new_width = max_side\n",
    "        new_height = int(new_width / aspect_ratio)\n",
    "    resized_img = cv2.resize(cv2_img, (new_width, new_height), interpolation = cv2.INTER_AREA)\n",
    "        \n",
    "    # Cropping\n",
    "    left_padding = int((new_width - to_width) / 2)\n",
    "    right_padding = int(np.ceil((new_width - to_width) / 2))\n",
    "    top_padding = int((new_height - to_height) / 2)\n",
    "    bottom_padding = int(np.ceil((new_height - to_height) / 2))\n",
    "    cropped_img = resized_img[top_padding:(new_height - bottom_padding), left_padding:(new_width - right_padding)]\n",
    "    \n",
    "    return cropped_img\n",
    "\n",
    "if SETTINGS[\"PREPROCESS\"] and SETTINGS[\"PREPROCESS_METHOD_C\"]:\n",
    "    \n",
    "    ##\n",
    "    #   Resize Training Data\n",
    "    ##\n",
    "    \n",
    "    # Resize and write training images\n",
    "    for id in train_images.keys():\n",
    "        train_image = train_images[id]\n",
    "        resized_train_image = resize_maintaining_aspect_ratio(train_image, min_train_image_width, min_train_image_height)\n",
    "        image_dir = PROCESSED_DIRECTORY + \"/\" + METHOD_C_DIRECTORY + \"/train/img-\" + str(id) + \".jpeg\"\n",
    "        relative_imwrite(image_dir, resized_train_image)\n",
    "    \n",
    "    ##\n",
    "    #   Resize Test Data\n",
    "    ##\n",
    "    \n",
    "    # Resize and write testing images\n",
    "    for id in test_images.keys():\n",
    "        test_image = test_images[id]\n",
    "        resized_test_image = resize_maintaining_aspect_ratio(test_image, min_train_image_width, min_train_image_height)\n",
    "        image_dir = PROCESSED_DIRECTORY + \"/\" + METHOD_C_DIRECTORY + \"/test/img-\" + str(id) + \".jpeg\"\n",
    "        relative_imwrite(image_dir, resized_test_image)\n",
    "\n",
    "        "
   ],
   "metadata": {
    "collapsed": false,
    "pycharm": {
     "name": "#%%\n",
     "is_executing": false
    }
   }
  },
  {
   "cell_type": "code",
   "execution_count": 16,
   "outputs": [],
   "source": [
    "    \n",
    "##\n",
    "#   Method D\n",
    "##\n",
    "\n",
    "def resize_to_square_maintaining_aspect_ratio(cv2_img, to_size):\n",
    "    \"\"\"\n",
    "    Wrapper around resize_maintaining_aspect_ratio to produce a cropped square image.\n",
    "    :param cv2_img: The image to crop.\n",
    "    :param to_size: The desired square side size.\n",
    "    :return: The new resized and cropped image.\n",
    "    \"\"\"\n",
    "    return resize_maintaining_aspect_ratio(cv2_img, to_size, to_size)\n",
    "\n",
    "if SETTINGS[\"PREPROCESS\"] and SETTINGS[\"PREPROCESS_METHOD_D\"]:\n",
    "    \n",
    "    ##\n",
    "    #   Resize Training Data\n",
    "    ##\n",
    "    \n",
    "    # Resize and write training images\n",
    "    for id in train_images.keys():\n",
    "        train_image = train_images[id]\n",
    "        resized_train_image = resize_to_square_maintaining_aspect_ratio(train_image, min_train_image_size)\n",
    "        image_dir = PROCESSED_DIRECTORY + \"/\" + METHOD_D_DIRECTORY + \"/train/img-\" + str(id) + \".jpeg\"\n",
    "        relative_imwrite(image_dir, resized_train_image)\n",
    "    \n",
    "    ##\n",
    "    #   Resize Test Data\n",
    "    ##\n",
    "    \n",
    "    # Resize and write testing images\n",
    "    for id in test_images.keys():\n",
    "        test_image = test_images[id]\n",
    "        resized_test_image = resize_to_square_maintaining_aspect_ratio(test_image, min_train_image_size)\n",
    "        image_dir = PROCESSED_DIRECTORY + \"/\" + METHOD_D_DIRECTORY + \"/test/img-\" + str(id) + \".jpeg\"\n",
    "        relative_imwrite(image_dir, resized_test_image)\n",
    "\n"
   ],
   "metadata": {
    "collapsed": false,
    "pycharm": {
     "name": "#%%\n",
     "is_executing": false
    }
   }
  }
 ],
 "metadata": {
  "kernelspec": {
   "display_name": "Python 3",
   "language": "python",
   "name": "python3"
  },
  "language_info": {
   "codemirror_mode": {
    "name": "ipython",
    "version": 2
   },
   "file_extension": ".py",
   "mimetype": "text/x-python",
   "name": "python",
   "nbconvert_exporter": "python",
   "pygments_lexer": "ipython2",
   "version": "2.7.6"
  },
  "pycharm": {
   "stem_cell": {
    "cell_type": "raw",
    "source": [],
    "metadata": {
     "collapsed": false
    }
   }
  }
 },
 "nbformat": 4,
 "nbformat_minor": 0
}